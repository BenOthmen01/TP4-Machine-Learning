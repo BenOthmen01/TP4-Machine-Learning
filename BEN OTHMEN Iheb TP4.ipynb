{
 "cells": [
  {
   "cell_type": "markdown",
   "id": "1fcb957f-07f1-486b-9e70-69be741ac521",
   "metadata": {},
   "source": [
    "###  Importation des bibliothèque "
   ]
  },
  {
   "cell_type": "code",
   "execution_count": 1,
   "id": "dad52e70-3a19-4df9-b106-143f6c25b257",
   "metadata": {},
   "outputs": [],
   "source": [
    "import requests \n",
    "from requests.auth import HTTPBasicAuth\n",
    "import json \n",
    "import numpy as np\n",
    "import pandas as pd\n",
    "from statsmodels.graphics.tsaplots import plot_acf, plot_pacf\n",
    "from statsmodels.tsa.statespace.varmax import VARMAX\n",
    "from statsmodels.tsa.api import VAR\n",
    "from statsmodels.tsa.stattools import grangercausalitytests, adfuller\n",
    "from tqdm import tqdm_notebook\n",
    "from itertools import product\n",
    "import matplotlib.pyplot as plt\n",
    "import statsmodels.api as sm\n",
    "import pandas as pd\n",
    "import numpy as np\n",
    "import warnings\n",
    "warnings.filterwarnings('ignore')"
   ]
  },
  {
   "cell_type": "markdown",
   "id": "99f493e3-fb8b-4998-a4a1-c6aa6bf19a92",
   "metadata": {},
   "source": [
    "## Set API déja donnée"
   ]
  },
  {
   "cell_type": "code",
   "execution_count": 2,
   "id": "919372b6-f7e4-4530-bfa2-b2b36ac2d3b4",
   "metadata": {},
   "outputs": [
    {
     "name": "stdout",
     "output_type": "stream",
     "text": [
      "{\"id\":\"FMVnkwoFEuuo9GkN\",\"x\":\"{\\\"wconfid\\\":{\\\"0\\\":3,\\\"1\\\":3,\\\"2\\\":3,\\\"3\\\":3,\\\"4\\\":3,\\\"5\\\":3,\\\"6\\\":3,\\\"7\\\":3,\\\"8\\\":3,\\\"9\\\":3,\\\"10\\\":3,\\\"11\\\":3,\\\"12\\\":3,\\\"13\\\":3,\\\"14\\\":3,\\\"15\\\":3,\\\"16\\\":3,\\\"17\\\":3,\\\"18\\\":3,\\\"19\\\":3,\\\"20\\\":3,\\\"21\\\":3,\\\"22\\\":3,\\\"23\\\":3,\\\"24\\\":3,\\\"25\\\":3,\\\"26\\\":3,\\\"27\\\":3,\\\"28\\\":3,\\\"29\\\":3,\\\"30\\\":3,\\\"31\\\":3},\\\"pctid\\\":{\\\"0\\\":25,\\\"1\\\":25,\\\"2\\\":25,\\\"3\\\":25,\\\"4\\\":25,\\\"5\\\":25,\\\"6\\\":25,\\\"7\\\":25,\\\"8\\\":25,\\\"9\\\":25,\\\"10\\\":25,\\\"11\\\":25,\\\"12\\\":25,\\\"13\\\":25,\\\"14\\\":25,\\\"15\\\":25,\\\"16\\\":25,\\\"17\\\":25,\\\"18\\\":25,\\\"19\\\":25,\\\"20\\\":25,\\\"21\\\":25,\\\"22\\\":25,\\\"23\\\":25,\\\"24\\\":25,\\\"25\\\":25,\\\"26\\\":25,\\\"27\\\":25,\\\"28\\\":25,\\\"29\\\":25,\\\"30\\\":25,\\\"31\\\":25},\\\"x\\\":{\\\"0\\\":0.996,\\\"1\\\":1.023,\\\"2\\\":0.98,\\\"3\\\":0.992,\\\"4\\\":0.969,\\\"5\\\":1.016,\\\"6\\\":0.98,\\\"7\\\":0.984,\\\"8\\\":0.996,\\\"9\\\":0.988,\\\"10\\\":0.984,\\\"11\\\":1.02,\\\"12\\\":0.996,\\\"13\\\":0.98,\\\"14\\\":1.016,\\\"15\\\":0.988,\\\"16\\\":0.984,\\\"17\\\":1.027,\\\"18\\\":0.984,\\\"19\\\":1.012,\\\"20\\\":1.02,\\\"21\\\":0.977,\\\"22\\\":0.996,\\\"23\\\":0.973,\\\"24\\\":1.0,\\\"25\\\":1.004,\\\"26\\\":0.98,\\\"27\\\":1.0,\\\"28\\\":0.98,\\\"29\\\":1.02,\\\"30\\\":0.988,\\\"31\\\":1.004},\\\"y\\\":{\\\"0\\\":-0.023,\\\"1\\\":0.09,\\\"2\\\":0.109,\\\"3\\\":0.09,\\\"4\\\":0.023,\\\"5\\\":-0.008,\\\"6\\\":-0.133,\\\"7\\\":-0.008,\\\"8\\\":0.098,\\\"9\\\":-0.137,\\\"10\\\":0.023,\\\"11\\\":-0.047,\\\"12\\\":-0.059,\\\"13\\\":0.031,\\\"14\\\":-0.039,\\\"15\\\":-0.109,\\\"16\\\":0.039,\\\"17\\\":-0.02,\\\"18\\\":-0.137,\\\"19\\\":0.039,\\\"20\\\":0.082,\\\"21\\\":0.098,\\\"22\\\":0.012,\\\"23\\\":-0.133,\\\"24\\\":0.016,\\\"25\\\":0.035,\\\"26\\\":0.098,\\\"27\\\":0.055,\\\"28\\\":0.152,\\\"29\\\":0.074,\\\"30\\\":-0.043,\\\"31\\\":-0.02},\\\"z\\\":{\\\"0\\\":-0.113,\\\"1\\\":-0.121,\\\"2\\\":-0.152,\\\"3\\\":-0.09,\\\"4\\\":-0.148,\\\"5\\\":-0.125,\\\"6\\\":-0.102,\\\"7\\\":-0.129,\\\"8\\\":-0.102,\\\"9\\\":-0.121,\\\"10\\\":-0.148,\\\"11\\\":-0.133,\\\"12\\\":-0.133,\\\"13\\\":-0.152,\\\"14\\\":-0.133,\\\"15\\\":-0.133,\\\"16\\\":-0.152,\\\"17\\\":-0.125,\\\"18\\\":-0.129,\\\"19\\\":-0.137,\\\"20\\\":-0.137,\\\"21\\\":-0.137,\\\"22\\\":-0.113,\\\"23\\\":-0.137,\\\"24\\\":-0.113,\\\"25\\\":-0.09,\\\"26\\\":-0.121,\\\"27\\\":-0.133,\\\"28\\\":-0.16,\\\"29\\\":-0.113,\\\"30\\\":-0.164,\\\"31\\\":-0.102}}\",\"info\":\"1 samples (499 remaining).\"}\n"
     ]
    }
   ],
   "source": [
    "api_key = \"cfbaf0e4-342b-4100-be55-d56d4aac6669\"\n",
    "server_url = 'https://esgf-server-staging.herokuapp.com'\n",
    "service_name = 'get_inference_data'\n",
    "params = f\"?api_key={api_key}\"\n",
    "headers = {\n",
    "       'Accept': 'application/json',\n",
    "       'Authorization' : f\"Bearer {api_key}\"\n",
    "}\n",
    "response = requests.get(f\"{server_url}/{service_name}{params}\", headers=headers)\n",
    "print(response.text)\n",
    "assert response.status_code == 200"
   ]
  },
  {
   "cell_type": "code",
   "execution_count": 6,
   "id": "c1b9afb1-48ee-46f0-987a-2c68f2cf4010",
   "metadata": {},
   "outputs": [
    {
     "name": "stdout",
     "output_type": "stream",
     "text": [
      "Sample ID='FMVnkwoFEuuo9GkN' has shape (32, 5)\n"
     ]
    }
   ],
   "source": [
    "# Réponse du serveur en json. Dictionnaire avec les clés 'id' et 'x'.\n",
    "json_answer = response.json()\n",
    "\n",
    "# Example id\n",
    "example_id = json_answer['id']\n",
    "\n",
    "# Analyse la réponse en tant qu'objet json\n",
    "json_answer = json.loads(json_answer['x'])\n",
    "\n",
    "df = pd.DataFrame(json_answer)\n",
    "\n",
    "print(\"Sample ID='{}' has shape {}\".format(example_id, pd_sample.shape))"
   ]
  },
  {
   "cell_type": "code",
   "execution_count": 8,
   "id": "39a31d08-a371-46a9-b670-39a6a3e6cb28",
   "metadata": {},
   "outputs": [
    {
     "data": {
      "text/html": [
       "<div>\n",
       "<style scoped>\n",
       "    .dataframe tbody tr th:only-of-type {\n",
       "        vertical-align: middle;\n",
       "    }\n",
       "\n",
       "    .dataframe tbody tr th {\n",
       "        vertical-align: top;\n",
       "    }\n",
       "\n",
       "    .dataframe thead th {\n",
       "        text-align: right;\n",
       "    }\n",
       "</style>\n",
       "<table border=\"1\" class=\"dataframe\">\n",
       "  <thead>\n",
       "    <tr style=\"text-align: right;\">\n",
       "      <th></th>\n",
       "      <th>wconfid</th>\n",
       "      <th>pctid</th>\n",
       "      <th>x</th>\n",
       "      <th>y</th>\n",
       "      <th>z</th>\n",
       "    </tr>\n",
       "  </thead>\n",
       "  <tbody>\n",
       "    <tr>\n",
       "      <th>27</th>\n",
       "      <td>3</td>\n",
       "      <td>25</td>\n",
       "      <td>1.000</td>\n",
       "      <td>0.055</td>\n",
       "      <td>-0.133</td>\n",
       "    </tr>\n",
       "    <tr>\n",
       "      <th>28</th>\n",
       "      <td>3</td>\n",
       "      <td>25</td>\n",
       "      <td>0.980</td>\n",
       "      <td>0.152</td>\n",
       "      <td>-0.160</td>\n",
       "    </tr>\n",
       "    <tr>\n",
       "      <th>29</th>\n",
       "      <td>3</td>\n",
       "      <td>25</td>\n",
       "      <td>1.020</td>\n",
       "      <td>0.074</td>\n",
       "      <td>-0.113</td>\n",
       "    </tr>\n",
       "    <tr>\n",
       "      <th>30</th>\n",
       "      <td>3</td>\n",
       "      <td>25</td>\n",
       "      <td>0.988</td>\n",
       "      <td>-0.043</td>\n",
       "      <td>-0.164</td>\n",
       "    </tr>\n",
       "    <tr>\n",
       "      <th>31</th>\n",
       "      <td>3</td>\n",
       "      <td>25</td>\n",
       "      <td>1.004</td>\n",
       "      <td>-0.020</td>\n",
       "      <td>-0.102</td>\n",
       "    </tr>\n",
       "  </tbody>\n",
       "</table>\n",
       "</div>"
      ],
      "text/plain": [
       "    wconfid  pctid      x      y      z\n",
       "27        3     25  1.000  0.055 -0.133\n",
       "28        3     25  0.980  0.152 -0.160\n",
       "29        3     25  1.020  0.074 -0.113\n",
       "30        3     25  0.988 -0.043 -0.164\n",
       "31        3     25  1.004 -0.020 -0.102"
      ]
     },
     "execution_count": 8,
     "metadata": {},
     "output_type": "execute_result"
    }
   ],
   "source": [
    "df.head()\n",
    "df.tail()"
   ]
  },
  {
   "cell_type": "code",
   "execution_count": 10,
   "id": "8884e33e-e1ad-4e5b-ac8c-00b14c61516e",
   "metadata": {},
   "outputs": [
    {
     "name": "stdout",
     "output_type": "stream",
     "text": [
      "(32, 3)\n"
     ]
    }
   ],
   "source": [
    "data = pd_sample[['x','y','z']]\n",
    "print(data.shape)"
   ]
  },
  {
   "cell_type": "code",
   "execution_count": 11,
   "id": "af824e2a-34c7-4095-9fd7-dda5bfc931aa",
   "metadata": {},
   "outputs": [],
   "source": [
    "# repartition train et test\n",
    "train_df=data[:-12]\n",
    "test_df=data[-12:]"
   ]
  },
  {
   "cell_type": "code",
   "execution_count": 12,
   "id": "9e601234-0b81-49a0-8777-b43243152b44",
   "metadata": {},
   "outputs": [
    {
     "name": "stdout",
     "output_type": "stream",
     "text": [
      " VAR Order Selection (* highlights the minimums) \n",
      "=================================================\n",
      "      AIC         BIC         FPE         HQIC   \n",
      "-------------------------------------------------\n",
      "0      -18.90      -18.76   6.185e-09      -18.89\n",
      "1      -21.93      -21.35   3.104e-10      -21.90\n",
      "2      -21.83      -20.82   4.000e-10      -21.78\n",
      "3     -23.60*     -22.15*  1.079e-10*     -23.52*\n",
      "-------------------------------------------------\n"
     ]
    }
   ],
   "source": [
    "# Model\n",
    "model = VAR(train_df.diff()[1:])\n",
    "sorted_order=model.select_order(maxlags=3)\n",
    "print(sorted_order.summary())"
   ]
  },
  {
   "cell_type": "markdown",
   "id": "9302405a-18a3-4c1d-ab01-039a93b392e4",
   "metadata": {},
   "source": [
    "# vue globale sur l'interpretation des critéres \n",
    ". Comment interpréter  ?\n",
    "\n",
    ". AIC : \n",
    "\n",
    "        Interprétation Le critère AIC représente donc un compromis entre le biais, diminuant avec le nombre de paramètres libres, et la parcimonie, volonté de décrire les données avec le plus petit nombre de  paramètres possibles.\n",
    "\n",
    ". BIC :\n",
    "\n",
    "    Le Bayesian information criterion BIC est défini par : BIC = −2 log(˜L) + k log(n). Il est plus parcimonieux que le critère AIC puisqu'il pénalise plus le nombre de variables présentent de le modèle.\n",
    "\n",
    "\n",
    "\n"
   ]
  },
  {
   "cell_type": "code",
   "execution_count": 13,
   "id": "71bd6512-cad4-4189-8974-bf9603f91855",
   "metadata": {},
   "outputs": [
    {
     "name": "stdout",
     "output_type": "stream",
     "text": [
      "                           Statespace Model Results                           \n",
      "==============================================================================\n",
      "Dep. Variable:        ['x', 'y', 'z']   No. Observations:                   20\n",
      "Model:                         VAR(4)   Log Likelihood                 152.620\n",
      "                          + intercept   AIC                           -215.241\n",
      "Date:                Sun, 26 Feb 2023   BIC                           -170.433\n",
      "Time:                        22:35:37   HQIC                          -206.494\n",
      "Sample:                             0                                         \n",
      "                                 - 20                                         \n",
      "Covariance Type:                  opg                                         \n",
      "===================================================================================\n",
      "Ljung-Box (L1) (Q):       0.02, 1.54, 3.49   Jarque-Bera (JB):    8.62, 0.72, 34.03\n",
      "Prob(Q):                  0.90, 0.21, 0.06   Prob(JB):             0.01, 0.70, 0.00\n",
      "Heteroskedasticity (H):   0.28, 0.79, 0.06   Skew:                -0.36, 0.40, 1.33\n",
      "Prob(H) (two-sided):      0.12, 0.76, 0.00   Kurtosis:             6.14, 2.55, 8.81\n",
      "                            Results for equation x                            \n",
      "==============================================================================\n",
      "                 coef    std err          z      P>|z|      [0.025      0.975]\n",
      "------------------------------------------------------------------------------\n",
      "intercept      0.2894      0.035      8.158      0.000       0.220       0.359\n",
      "L1.x          -0.5966      0.143     -4.177      0.000      -0.877      -0.317\n",
      "L1.y          -0.0700      0.207     -0.339      0.735      -0.475       0.335\n",
      "L1.z          -0.6841      0.199     -3.445      0.001      -1.073      -0.295\n",
      "L2.x           0.3848      0.109      3.537      0.000       0.172       0.598\n",
      "L2.y          -0.0138      0.214     -0.065      0.949      -0.432       0.405\n",
      "L2.z           0.0220      0.203      0.108      0.914      -0.376       0.420\n",
      "L3.x           0.4270      0.117      3.641      0.000       0.197       0.657\n",
      "L3.y          -0.0474      0.294     -0.161      0.872      -0.623       0.528\n",
      "L3.z           0.5180      0.121      4.282      0.000       0.281       0.755\n",
      "L4.x           0.4761      0.118      4.023      0.000       0.244       0.708\n",
      "L4.y           0.0487      0.253      0.193      0.847      -0.447       0.544\n",
      "L4.z           0.0099      0.132      0.075      0.940      -0.249       0.269\n",
      "                            Results for equation y                            \n",
      "==============================================================================\n",
      "                 coef    std err          z      P>|z|      [0.025      0.975]\n",
      "------------------------------------------------------------------------------\n",
      "intercept     -7.8206      0.053   -146.368      0.000      -7.925      -7.716\n",
      "L1.x           2.9439      0.076     38.507      0.000       2.794       3.094\n",
      "L1.y           0.0516      0.323      0.160      0.873      -0.582       0.685\n",
      "L1.z           1.1333      0.083     13.701      0.000       0.971       1.295\n",
      "L2.x           2.6499      0.102     25.965      0.000       2.450       2.850\n",
      "L2.y          -0.1795      0.200     -0.900      0.368      -0.571       0.212\n",
      "L2.z           3.2333      0.122     26.507      0.000       2.994       3.472\n",
      "L3.x           3.4766      0.076     45.936      0.000       3.328       3.625\n",
      "L3.y           0.2744      0.252      1.090      0.276      -0.219       0.768\n",
      "L3.z          -1.4218      0.017    -82.807      0.000      -1.455      -1.388\n",
      "L4.x          -0.7249      0.033    -22.046      0.000      -0.789      -0.660\n",
      "L4.y           0.0561      0.342      0.164      0.870      -0.615       0.727\n",
      "L4.z           0.9075      0.085     10.625      0.000       0.740       1.075\n",
      "                            Results for equation z                            \n",
      "==============================================================================\n",
      "                 coef    std err          z      P>|z|      [0.025      0.975]\n",
      "------------------------------------------------------------------------------\n",
      "intercept     -1.2559      0.137     -9.183      0.000      -1.524      -0.988\n",
      "L1.x           0.5705      0.276      2.067      0.039       0.030       1.111\n",
      "L1.y          -0.0491      0.169     -0.290      0.771      -0.380       0.282\n",
      "L1.z           0.3986      0.220      1.812      0.070      -0.032       0.830\n",
      "L2.x           0.2044      0.205      0.996      0.319      -0.198       0.606\n",
      "L2.y          -0.0416      0.132     -0.315      0.753      -0.300       0.217\n",
      "L2.z           0.6785      0.294      2.311      0.021       0.103       1.254\n",
      "L3.x           0.2430      0.194      1.250      0.211      -0.138       0.624\n",
      "L3.y          -0.0037      0.147     -0.025      0.980      -0.292       0.285\n",
      "L3.z           0.2103      0.325      0.647      0.517      -0.426       0.847\n",
      "L4.x           0.2124      0.148      1.433      0.152      -0.078       0.503\n",
      "L4.y           0.1401      0.108      1.294      0.196      -0.072       0.352\n",
      "L4.z          -0.5296      0.245     -2.164      0.030      -1.009      -0.050\n",
      "                            Error covariance matrix                             \n",
      "================================================================================\n",
      "                   coef    std err          z      P>|z|      [0.025      0.975]\n",
      "--------------------------------------------------------------------------------\n",
      "sqrt.var.x       0.0133      0.021      0.622      0.534      -0.029       0.055\n",
      "sqrt.cov.x.y    -0.0127      0.151     -0.084      0.933      -0.309       0.283\n",
      "sqrt.var.y       0.0410      0.076      0.540      0.589      -0.108       0.190\n",
      "sqrt.cov.x.z     0.0038      0.021      0.179      0.858      -0.038       0.046\n",
      "sqrt.cov.y.z    -0.0038      0.012     -0.316      0.752      -0.027       0.020\n",
      "sqrt.var.z       0.0045      0.009      0.498      0.618      -0.013       0.022\n",
      "================================================================================\n",
      "\n",
      "Warnings:\n",
      "[1] Covariance matrix calculated using the outer product of gradients (complex-step).\n",
      "[2] Covariance matrix is singular or near-singular, with condition number 4.13e+19. Standard errors may be unstable.\n"
     ]
    }
   ],
   "source": [
    "var_model = VARMAX(train_df, order=(4,0),enforce_stationarity= True)\n",
    "fitted_model = var_model.fit(disp=False)\n",
    "print(fitted_model.summary())"
   ]
  },
  {
   "cell_type": "code",
   "execution_count": 15,
   "id": "18e728fe-93fe-4890-931a-4ecfaf6afaa0",
   "metadata": {},
   "outputs": [],
   "source": [
    "n_forecast = 600\n",
    "predict = fitted_model.get_prediction(start=len(train_df),end=len(train_df) + n_forecast-1)\n",
    "predictions=predict.predicted_mean"
   ]
  },
  {
   "cell_type": "code",
   "execution_count": 16,
   "id": "2cf3127c-1add-47e0-8aa9-48f2073d0213",
   "metadata": {},
   "outputs": [
    {
     "data": {
      "text/html": [
       "<div>\n",
       "<style scoped>\n",
       "    .dataframe tbody tr th:only-of-type {\n",
       "        vertical-align: middle;\n",
       "    }\n",
       "\n",
       "    .dataframe tbody tr th {\n",
       "        vertical-align: top;\n",
       "    }\n",
       "\n",
       "    .dataframe thead th {\n",
       "        text-align: right;\n",
       "    }\n",
       "</style>\n",
       "<table border=\"1\" class=\"dataframe\">\n",
       "  <thead>\n",
       "    <tr style=\"text-align: right;\">\n",
       "      <th></th>\n",
       "      <th>x_predicted</th>\n",
       "      <th>y_predicted</th>\n",
       "      <th>z_predicted</th>\n",
       "    </tr>\n",
       "  </thead>\n",
       "  <tbody>\n",
       "    <tr>\n",
       "      <th>20</th>\n",
       "      <td>0.997884</td>\n",
       "      <td>0.114059</td>\n",
       "      <td>-0.097444</td>\n",
       "    </tr>\n",
       "    <tr>\n",
       "      <th>21</th>\n",
       "      <td>0.985141</td>\n",
       "      <td>-0.047940</td>\n",
       "      <td>-0.124724</td>\n",
       "    </tr>\n",
       "    <tr>\n",
       "      <th>22</th>\n",
       "      <td>0.990412</td>\n",
       "      <td>0.130278</td>\n",
       "      <td>-0.133033</td>\n",
       "    </tr>\n",
       "    <tr>\n",
       "      <th>23</th>\n",
       "      <td>1.009935</td>\n",
       "      <td>-0.049722</td>\n",
       "      <td>-0.117001</td>\n",
       "    </tr>\n",
       "    <tr>\n",
       "      <th>24</th>\n",
       "      <td>0.984743</td>\n",
       "      <td>-0.027895</td>\n",
       "      <td>-0.124272</td>\n",
       "    </tr>\n",
       "    <tr>\n",
       "      <th>...</th>\n",
       "      <td>...</td>\n",
       "      <td>...</td>\n",
       "      <td>...</td>\n",
       "    </tr>\n",
       "    <tr>\n",
       "      <th>615</th>\n",
       "      <td>0.995750</td>\n",
       "      <td>-0.008900</td>\n",
       "      <td>-0.128900</td>\n",
       "    </tr>\n",
       "    <tr>\n",
       "      <th>616</th>\n",
       "      <td>0.995750</td>\n",
       "      <td>-0.008900</td>\n",
       "      <td>-0.128900</td>\n",
       "    </tr>\n",
       "    <tr>\n",
       "      <th>617</th>\n",
       "      <td>0.995750</td>\n",
       "      <td>-0.008900</td>\n",
       "      <td>-0.128900</td>\n",
       "    </tr>\n",
       "    <tr>\n",
       "      <th>618</th>\n",
       "      <td>0.995750</td>\n",
       "      <td>-0.008900</td>\n",
       "      <td>-0.128900</td>\n",
       "    </tr>\n",
       "    <tr>\n",
       "      <th>619</th>\n",
       "      <td>0.995750</td>\n",
       "      <td>-0.008900</td>\n",
       "      <td>-0.128900</td>\n",
       "    </tr>\n",
       "  </tbody>\n",
       "</table>\n",
       "<p>600 rows × 3 columns</p>\n",
       "</div>"
      ],
      "text/plain": [
       "     x_predicted  y_predicted  z_predicted\n",
       "20      0.997884     0.114059    -0.097444\n",
       "21      0.985141    -0.047940    -0.124724\n",
       "22      0.990412     0.130278    -0.133033\n",
       "23      1.009935    -0.049722    -0.117001\n",
       "24      0.984743    -0.027895    -0.124272\n",
       "..           ...          ...          ...\n",
       "615     0.995750    -0.008900    -0.128900\n",
       "616     0.995750    -0.008900    -0.128900\n",
       "617     0.995750    -0.008900    -0.128900\n",
       "618     0.995750    -0.008900    -0.128900\n",
       "619     0.995750    -0.008900    -0.128900\n",
       "\n",
       "[600 rows x 3 columns]"
      ]
     },
     "execution_count": 16,
     "metadata": {},
     "output_type": "execute_result"
    }
   ],
   "source": [
    "predictions.columns=['x_predicted','y_predicted','z_predicted']\n",
    "predictions"
   ]
  },
  {
   "cell_type": "code",
   "execution_count": 17,
   "id": "017d298c-ca31-4fd7-81c7-4942302e63ab",
   "metadata": {},
   "outputs": [
    {
     "data": {
      "text/plain": [
       "<AxesSubplot:>"
      ]
     },
     "execution_count": 17,
     "metadata": {},
     "output_type": "execute_result"
    },
    {
     "data": {
      "image/png": "[encoded data removed]",
      "text/plain": [
       "<Figure size 864x360 with 1 Axes>"
      ]
     },
     "metadata": {
      "needs_background": "light"
     },
     "output_type": "display_data"
    }
   ],
   "source": [
    "test_vs_pred=pd.concat([test_df,predictions],axis=1)\n",
    "test_vs_pred.plot(figsize=(12,5))"
   ]
  },
  {
   "cell_type": "code",
   "execution_count": 20,
   "id": "caf831b7-3c3f-4d70-8c29-40f6a3a3f34d",
   "metadata": {},
   "outputs": [
    {
     "name": "stdout",
     "output_type": "stream",
     "text": [
      "{\"rmse_example\":0.053697821781449835,\"submissions\":1,\"remaining\":499}\n"
     ]
    }
   ],
   "source": [
    "api_key = \"cfbaf0e4-342b-4100-be55-d56d4aac6669\"\n",
    "server_url = 'https://esgf-server-staging.herokuapp.com'\n",
    "example_id =\"FMVnkwoFEuuo9GkN\"\n",
    "prediction=\"0.972211,0.002333,-0.112556\"\n",
    "service_name = 'predict'\n",
    "params = f\"?api_key={api_key}&example_id={example_id}&prediction={prediction}\"\n",
    "headers = {\n",
    "       'Accept': 'application/json',\n",
    "       'Authorization' : f\"Bearer {api_key}\"\n",
    "}\n",
    "response = requests.get(f\"{server_url}/{service_name}{params}\", headers=headers)\n",
    "print(response.text)\n",
    "assert response.status_code == 200"
   ]
  },
  {
   "cell_type": "code",
   "execution_count": null,
   "id": "f6380f1a-ff9a-42cf-861d-d069400984fa",
   "metadata": {},
   "outputs": [],
   "source": []
  }
 ],
 "metadata": {
  "kernelspec": {
   "display_name": "Python 3",
   "language": "python",
   "name": "python3"
  },
  "language_info": {
   "codemirror_mode": {
    "name": "ipython",
    "version": 3
   },
   "file_extension": ".py",
   "mimetype": "text/x-python",
   "name": "python",
   "nbconvert_exporter": "python",
   "pygments_lexer": "ipython3",
   "version": "3.8.8"
  }
 },
 "nbformat": 4,
 "nbformat_minor": 5
}
